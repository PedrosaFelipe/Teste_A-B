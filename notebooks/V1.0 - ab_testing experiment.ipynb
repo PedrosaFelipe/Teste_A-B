{
 "cells": [
  {
   "cell_type": "markdown",
   "id": "0d717f62",
   "metadata": {},
   "source": [
    "# A/B Testing - PA Bond"
   ]
  },
  {
   "cell_type": "code",
   "execution_count": 8,
   "id": "8a32712b",
   "metadata": {
    "ExecuteTime": {
     "end_time": "2022-09-29T16:59:39.127399Z",
     "start_time": "2022-09-29T16:59:38.977749Z"
    }
   },
   "outputs": [],
   "source": [
    "import numpy as np\n",
    "import pandas as pd\n",
    "import pingouin as pg\n",
    "\n",
    "from statsmodels.stats import api as sms\n",
    "from scipy import stats"
   ]
  },
  {
   "cell_type": "markdown",
   "id": "ce2e8d37",
   "metadata": {},
   "source": [
    "# 0.0 Planejamento"
   ]
  },
  {
   "cell_type": "markdown",
   "id": "e2aaf3cc",
   "metadata": {},
   "source": [
    "# 1.1 Design do Experimento"
   ]
  },
  {
   "cell_type": "markdown",
   "id": "cbc0cd30",
   "metadata": {},
   "source": [
    "- **Objetivo**: Definir se o preencihmento automático da página de checkout é melhor do que o preenchimento manual.\n",
    "- **Métrica**: GMV ( Gross Margin Reveneu) médio\n",
    "\n",
    "    - Group A = Preenchimento automático\n",
    "    - Group B = preenchimento manual\n",
    "    \n",
    "    \n",
    "- Métrica com dispersão naturalmente menor\n",
    "    - Conversão - (0 - 1)\n",
    "    - Compras - (0 - Unidades)\n",
    "    - GMV - (0 - R$ 30.000)"
   ]
  },
  {
   "cell_type": "markdown",
   "id": "8685bace",
   "metadata": {},
   "source": [
    "## 1.1 Hipótese do Experimento"
   ]
  },
  {
   "cell_type": "markdown",
   "id": "c2678cfa",
   "metadata": {},
   "source": [
    "- H0: avg GMV A = avg GMV B\n",
    "- HA: avg GMV A <> avg GMV B\n",
    "    "
   ]
  },
  {
   "cell_type": "markdown",
   "id": "87801adb",
   "metadata": {
    "ExecuteTime": {
     "end_time": "2022-09-29T16:53:03.233841Z",
     "start_time": "2022-09-29T16:53:03.230701Z"
    }
   },
   "source": [
    "## 1.2 Definir o tamanho da amostra"
   ]
  },
  {
   "cell_type": "code",
   "execution_count": 13,
   "id": "16589856",
   "metadata": {
    "ExecuteTime": {
     "end_time": "2022-09-29T17:04:24.533183Z",
     "start_time": "2022-09-29T17:04:24.518371Z"
    }
   },
   "outputs": [
    {
     "name": "stdout",
     "output_type": "stream",
     "text": [
      "3395\n"
     ]
    }
   ],
   "source": [
    "#p1 = 0.75\n",
    "#p2 = 0.80\n",
    "\n",
    "#init_metric = metric atual (média do GMV, média Sales)\n",
    "#end_metric =  metric lift(5% sobre a metric atual)\n",
    "\n",
    "\n",
    "init_metric = 1902.86\n",
    "end_metric = init_metric * (1 + 0.05)\n",
    "std_metric = 1398.89\n",
    "\n",
    "\n",
    "effect_size  = (end_metric - init_metric) / std_metric\n",
    "\n",
    "sample_size = sms.tt_ind_solve_power(\n",
    "    effect_size = effect_size,\n",
    "    alpha = 0.05, \n",
    "    power = 0.80)\n",
    "\n",
    "sz = np.ceil(sample_size).astype(int)\n",
    "\n",
    "print(sz)"
   ]
  },
  {
   "cell_type": "markdown",
   "id": "d7b5ef8a",
   "metadata": {},
   "source": [
    "# 2.0 Preparação dos dados"
   ]
  },
  {
   "cell_type": "markdown",
   "id": "99108da8",
   "metadata": {},
   "source": [
    "## 2.1 Loading data"
   ]
  },
  {
   "cell_type": "code",
   "execution_count": 4,
   "id": "0d04a86a",
   "metadata": {
    "ExecuteTime": {
     "end_time": "2022-09-29T16:51:40.930001Z",
     "start_time": "2022-09-29T16:51:40.889994Z"
    }
   },
   "outputs": [],
   "source": [
    "df = pd.read_csv(r'../data/raw/ab_testing.csv')"
   ]
  },
  {
   "cell_type": "code",
   "execution_count": 5,
   "id": "27e638b6",
   "metadata": {
    "ExecuteTime": {
     "end_time": "2022-09-29T16:51:48.692463Z",
     "start_time": "2022-09-29T16:51:48.676102Z"
    }
   },
   "outputs": [
    {
     "data": {
      "text/html": [
       "<div>\n",
       "<style scoped>\n",
       "    .dataframe tbody tr th:only-of-type {\n",
       "        vertical-align: middle;\n",
       "    }\n",
       "\n",
       "    .dataframe tbody tr th {\n",
       "        vertical-align: top;\n",
       "    }\n",
       "\n",
       "    .dataframe thead th {\n",
       "        text-align: right;\n",
       "    }\n",
       "</style>\n",
       "<table border=\"1\" class=\"dataframe\">\n",
       "  <thead>\n",
       "    <tr style=\"text-align: right;\">\n",
       "      <th></th>\n",
       "      <th>uid</th>\n",
       "      <th>country</th>\n",
       "      <th>gender</th>\n",
       "      <th>spent</th>\n",
       "      <th>purchases</th>\n",
       "      <th>date</th>\n",
       "      <th>group</th>\n",
       "      <th>device</th>\n",
       "    </tr>\n",
       "  </thead>\n",
       "  <tbody>\n",
       "    <tr>\n",
       "      <th>0</th>\n",
       "      <td>11115722</td>\n",
       "      <td>MEX</td>\n",
       "      <td>F</td>\n",
       "      <td>1595</td>\n",
       "      <td>5</td>\n",
       "      <td>2016-03-08</td>\n",
       "      <td>GRP B</td>\n",
       "      <td>I</td>\n",
       "    </tr>\n",
       "    <tr>\n",
       "      <th>1</th>\n",
       "      <td>11122053</td>\n",
       "      <td>USA</td>\n",
       "      <td>M</td>\n",
       "      <td>498</td>\n",
       "      <td>2</td>\n",
       "      <td>2017-07-14</td>\n",
       "      <td>GRP B</td>\n",
       "      <td>I</td>\n",
       "    </tr>\n",
       "    <tr>\n",
       "      <th>2</th>\n",
       "      <td>11128688</td>\n",
       "      <td>USA</td>\n",
       "      <td>F</td>\n",
       "      <td>2394</td>\n",
       "      <td>6</td>\n",
       "      <td>2017-09-17</td>\n",
       "      <td>GRP A</td>\n",
       "      <td>I</td>\n",
       "    </tr>\n",
       "    <tr>\n",
       "      <th>3</th>\n",
       "      <td>11130578</td>\n",
       "      <td>USA</td>\n",
       "      <td>F</td>\n",
       "      <td>1197</td>\n",
       "      <td>3</td>\n",
       "      <td>2017-11-30</td>\n",
       "      <td>GRP A</td>\n",
       "      <td>I</td>\n",
       "    </tr>\n",
       "    <tr>\n",
       "      <th>4</th>\n",
       "      <td>11130759</td>\n",
       "      <td>ESP</td>\n",
       "      <td>M</td>\n",
       "      <td>1297</td>\n",
       "      <td>3</td>\n",
       "      <td>2018-01-10</td>\n",
       "      <td>GRP B</td>\n",
       "      <td>A</td>\n",
       "    </tr>\n",
       "  </tbody>\n",
       "</table>\n",
       "</div>"
      ],
      "text/plain": [
       "        uid country gender  spent  purchases        date  group device\n",
       "0  11115722     MEX      F   1595          5  2016-03-08  GRP B      I\n",
       "1  11122053     USA      M    498          2  2017-07-14  GRP B      I\n",
       "2  11128688     USA      F   2394          6  2017-09-17  GRP A      I\n",
       "3  11130578     USA      F   1197          3  2017-11-30  GRP A      I\n",
       "4  11130759     ESP      M   1297          3  2018-01-10  GRP B      A"
      ]
     },
     "execution_count": 5,
     "metadata": {},
     "output_type": "execute_result"
    }
   ],
   "source": [
    "df.head()"
   ]
  },
  {
   "cell_type": "markdown",
   "id": "131420d7",
   "metadata": {},
   "source": [
    "## 2.2 Descriptive Statistics"
   ]
  },
  {
   "cell_type": "code",
   "execution_count": 9,
   "id": "bf012a8b",
   "metadata": {
    "ExecuteTime": {
     "end_time": "2022-09-29T17:01:36.675240Z",
     "start_time": "2022-09-29T17:01:36.659581Z"
    },
    "scrolled": true
   },
   "outputs": [
    {
     "data": {
      "text/html": [
       "<div>\n",
       "<style scoped>\n",
       "    .dataframe tbody tr th:only-of-type {\n",
       "        vertical-align: middle;\n",
       "    }\n",
       "\n",
       "    .dataframe tbody tr th {\n",
       "        vertical-align: top;\n",
       "    }\n",
       "\n",
       "    .dataframe thead th {\n",
       "        text-align: right;\n",
       "    }\n",
       "</style>\n",
       "<table border=\"1\" class=\"dataframe\">\n",
       "  <thead>\n",
       "    <tr style=\"text-align: right;\">\n",
       "      <th></th>\n",
       "      <th>uid</th>\n",
       "      <th>country</th>\n",
       "      <th>gender</th>\n",
       "      <th>spent</th>\n",
       "      <th>purchases</th>\n",
       "      <th>date</th>\n",
       "      <th>group</th>\n",
       "      <th>device</th>\n",
       "    </tr>\n",
       "  </thead>\n",
       "  <tbody>\n",
       "    <tr>\n",
       "      <th>12</th>\n",
       "      <td>11143138</td>\n",
       "      <td>BRA</td>\n",
       "      <td>M</td>\n",
       "      <td>2592</td>\n",
       "      <td>8</td>\n",
       "      <td>2015-05-20</td>\n",
       "      <td>GRP B</td>\n",
       "      <td>A</td>\n",
       "    </tr>\n",
       "    <tr>\n",
       "      <th>15</th>\n",
       "      <td>11148343</td>\n",
       "      <td>BRA</td>\n",
       "      <td>M</td>\n",
       "      <td>299</td>\n",
       "      <td>1</td>\n",
       "      <td>2016-09-04</td>\n",
       "      <td>GRP B</td>\n",
       "      <td>A</td>\n",
       "    </tr>\n",
       "    <tr>\n",
       "      <th>31</th>\n",
       "      <td>11172970</td>\n",
       "      <td>BRA</td>\n",
       "      <td>M</td>\n",
       "      <td>1797</td>\n",
       "      <td>3</td>\n",
       "      <td>2017-07-05</td>\n",
       "      <td>GRP B</td>\n",
       "      <td>I</td>\n",
       "    </tr>\n",
       "    <tr>\n",
       "      <th>36</th>\n",
       "      <td>11177332</td>\n",
       "      <td>BRA</td>\n",
       "      <td>M</td>\n",
       "      <td>1994</td>\n",
       "      <td>6</td>\n",
       "      <td>2017-01-06</td>\n",
       "      <td>GRP B</td>\n",
       "      <td>I</td>\n",
       "    </tr>\n",
       "    <tr>\n",
       "      <th>37</th>\n",
       "      <td>11179295</td>\n",
       "      <td>BRA</td>\n",
       "      <td>M</td>\n",
       "      <td>1198</td>\n",
       "      <td>2</td>\n",
       "      <td>2017-12-19</td>\n",
       "      <td>GRP B</td>\n",
       "      <td>A</td>\n",
       "    </tr>\n",
       "  </tbody>\n",
       "</table>\n",
       "</div>"
      ],
      "text/plain": [
       "         uid country gender  spent  purchases        date  group device\n",
       "12  11143138     BRA      M   2592          8  2015-05-20  GRP B      A\n",
       "15  11148343     BRA      M    299          1  2016-09-04  GRP B      A\n",
       "31  11172970     BRA      M   1797          3  2017-07-05  GRP B      I\n",
       "36  11177332     BRA      M   1994          6  2017-01-06  GRP B      I\n",
       "37  11179295     BRA      M   1198          2  2017-12-19  GRP B      A"
      ]
     },
     "execution_count": 9,
     "metadata": {},
     "output_type": "execute_result"
    }
   ],
   "source": [
    "df2 = df.loc[df['country'] == 'BRA', :]\n",
    "df2.head()"
   ]
  },
  {
   "cell_type": "code",
   "execution_count": 10,
   "id": "98bdf1ca",
   "metadata": {
    "ExecuteTime": {
     "end_time": "2022-09-29T17:02:07.243814Z",
     "start_time": "2022-09-29T17:02:07.236755Z"
    }
   },
   "outputs": [
    {
     "data": {
      "text/plain": [
       "mean    1902.860251\n",
       "std     1398.886279\n",
       "Name: spent, dtype: float64"
      ]
     },
     "execution_count": 10,
     "metadata": {},
     "output_type": "execute_result"
    }
   ],
   "source": [
    "df2['spent'].agg(['mean' , 'std'])"
   ]
  },
  {
   "cell_type": "code",
   "execution_count": 15,
   "id": "a74194d5",
   "metadata": {
    "ExecuteTime": {
     "end_time": "2022-09-29T17:06:23.897203Z",
     "start_time": "2022-09-29T17:06:23.893212Z"
    }
   },
   "outputs": [
    {
     "name": "stdout",
     "output_type": "stream",
     "text": [
      "Numbers of Rows: 9009\n",
      "Numbers of Cols: 8\n"
     ]
    }
   ],
   "source": [
    "print ('Numbers of Rows: {}'. format(df2.shape[0]))\n",
    "print ('Numbers of Cols: {}'. format(df2.shape[1]))"
   ]
  },
  {
   "cell_type": "markdown",
   "id": "801ba51a",
   "metadata": {},
   "source": [
    "### 2.2.1 Check NA"
   ]
  },
  {
   "cell_type": "code",
   "execution_count": 16,
   "id": "405a0f0b",
   "metadata": {
    "ExecuteTime": {
     "end_time": "2022-09-29T17:07:11.439527Z",
     "start_time": "2022-09-29T17:07:11.428451Z"
    }
   },
   "outputs": [
    {
     "data": {
      "text/plain": [
       "uid          0\n",
       "country      0\n",
       "gender       0\n",
       "spent        0\n",
       "purchases    0\n",
       "date         0\n",
       "group        0\n",
       "device       0\n",
       "dtype: int64"
      ]
     },
     "execution_count": 16,
     "metadata": {},
     "output_type": "execute_result"
    }
   ],
   "source": [
    "df2.isna().sum()"
   ]
  },
  {
   "cell_type": "markdown",
   "id": "3806ed00",
   "metadata": {
    "cell_style": "center"
   },
   "source": [
    "### 2.2.2 Check Unidade Experimental (pessoas)"
   ]
  },
  {
   "cell_type": "code",
   "execution_count": 17,
   "id": "50aebb84",
   "metadata": {
    "ExecuteTime": {
     "end_time": "2022-09-29T17:08:55.666675Z",
     "start_time": "2022-09-29T17:08:55.646392Z"
    }
   },
   "outputs": [
    {
     "data": {
      "text/html": [
       "<div>\n",
       "<style scoped>\n",
       "    .dataframe tbody tr th:only-of-type {\n",
       "        vertical-align: middle;\n",
       "    }\n",
       "\n",
       "    .dataframe tbody tr th {\n",
       "        vertical-align: top;\n",
       "    }\n",
       "\n",
       "    .dataframe thead th {\n",
       "        text-align: right;\n",
       "    }\n",
       "</style>\n",
       "<table border=\"1\" class=\"dataframe\">\n",
       "  <thead>\n",
       "    <tr style=\"text-align: right;\">\n",
       "      <th></th>\n",
       "      <th>uid</th>\n",
       "      <th>group</th>\n",
       "    </tr>\n",
       "  </thead>\n",
       "  <tbody>\n",
       "  </tbody>\n",
       "</table>\n",
       "</div>"
      ],
      "text/plain": [
       "Empty DataFrame\n",
       "Columns: [uid, group]\n",
       "Index: []"
      ]
     },
     "execution_count": 17,
     "metadata": {},
     "output_type": "execute_result"
    }
   ],
   "source": [
    "df2[['uid' , 'group']].groupby('uid').count().reset_index().query('group > 1')"
   ]
  },
  {
   "cell_type": "markdown",
   "id": "173bc8a5",
   "metadata": {},
   "source": [
    "### 2.2.3 Control and Treatment Homogenity"
   ]
  },
  {
   "cell_type": "code",
   "execution_count": 20,
   "id": "8010ddaf",
   "metadata": {
    "ExecuteTime": {
     "end_time": "2022-09-29T17:11:44.921022Z",
     "start_time": "2022-09-29T17:11:44.910772Z"
    },
    "cell_style": "split",
    "scrolled": true
   },
   "outputs": [
    {
     "data": {
      "text/html": [
       "<div>\n",
       "<style scoped>\n",
       "    .dataframe tbody tr th:only-of-type {\n",
       "        vertical-align: middle;\n",
       "    }\n",
       "\n",
       "    .dataframe tbody tr th {\n",
       "        vertical-align: top;\n",
       "    }\n",
       "\n",
       "    .dataframe thead th {\n",
       "        text-align: right;\n",
       "    }\n",
       "</style>\n",
       "<table border=\"1\" class=\"dataframe\">\n",
       "  <thead>\n",
       "    <tr style=\"text-align: right;\">\n",
       "      <th></th>\n",
       "      <th></th>\n",
       "      <th>uid</th>\n",
       "    </tr>\n",
       "    <tr>\n",
       "      <th>group</th>\n",
       "      <th>gender</th>\n",
       "      <th></th>\n",
       "    </tr>\n",
       "  </thead>\n",
       "  <tbody>\n",
       "    <tr>\n",
       "      <th rowspan=\"2\" valign=\"top\">GRP A</th>\n",
       "      <th>F</th>\n",
       "      <td>2213</td>\n",
       "    </tr>\n",
       "    <tr>\n",
       "      <th>M</th>\n",
       "      <td>2305</td>\n",
       "    </tr>\n",
       "    <tr>\n",
       "      <th rowspan=\"2\" valign=\"top\">GRP B</th>\n",
       "      <th>F</th>\n",
       "      <td>2208</td>\n",
       "    </tr>\n",
       "    <tr>\n",
       "      <th>M</th>\n",
       "      <td>2283</td>\n",
       "    </tr>\n",
       "  </tbody>\n",
       "</table>\n",
       "</div>"
      ],
      "text/plain": [
       "               uid\n",
       "group gender      \n",
       "GRP A F       2213\n",
       "      M       2305\n",
       "GRP B F       2208\n",
       "      M       2283"
      ]
     },
     "execution_count": 20,
     "metadata": {},
     "output_type": "execute_result"
    }
   ],
   "source": [
    "df2[['uid' ,'group' ,'gender']].groupby(['group','gender']).count()"
   ]
  },
  {
   "cell_type": "code",
   "execution_count": 21,
   "id": "2d09007a",
   "metadata": {
    "ExecuteTime": {
     "end_time": "2022-09-29T17:12:11.867435Z",
     "start_time": "2022-09-29T17:12:11.857268Z"
    },
    "cell_style": "split"
   },
   "outputs": [
    {
     "data": {
      "text/html": [
       "<div>\n",
       "<style scoped>\n",
       "    .dataframe tbody tr th:only-of-type {\n",
       "        vertical-align: middle;\n",
       "    }\n",
       "\n",
       "    .dataframe tbody tr th {\n",
       "        vertical-align: top;\n",
       "    }\n",
       "\n",
       "    .dataframe thead th {\n",
       "        text-align: right;\n",
       "    }\n",
       "</style>\n",
       "<table border=\"1\" class=\"dataframe\">\n",
       "  <thead>\n",
       "    <tr style=\"text-align: right;\">\n",
       "      <th></th>\n",
       "      <th></th>\n",
       "      <th>uid</th>\n",
       "    </tr>\n",
       "    <tr>\n",
       "      <th>group</th>\n",
       "      <th>device</th>\n",
       "      <th></th>\n",
       "    </tr>\n",
       "  </thead>\n",
       "  <tbody>\n",
       "    <tr>\n",
       "      <th rowspan=\"2\" valign=\"top\">GRP A</th>\n",
       "      <th>A</th>\n",
       "      <td>2208</td>\n",
       "    </tr>\n",
       "    <tr>\n",
       "      <th>I</th>\n",
       "      <td>2310</td>\n",
       "    </tr>\n",
       "    <tr>\n",
       "      <th rowspan=\"2\" valign=\"top\">GRP B</th>\n",
       "      <th>A</th>\n",
       "      <td>2284</td>\n",
       "    </tr>\n",
       "    <tr>\n",
       "      <th>I</th>\n",
       "      <td>2207</td>\n",
       "    </tr>\n",
       "  </tbody>\n",
       "</table>\n",
       "</div>"
      ],
      "text/plain": [
       "               uid\n",
       "group device      \n",
       "GRP A A       2208\n",
       "      I       2310\n",
       "GRP B A       2284\n",
       "      I       2207"
      ]
     },
     "execution_count": 21,
     "metadata": {},
     "output_type": "execute_result"
    }
   ],
   "source": [
    "df2[['uid' ,'group' ,'device']].groupby(['group','device']).count()"
   ]
  },
  {
   "cell_type": "code",
   "execution_count": 23,
   "id": "fb599a5a",
   "metadata": {
    "ExecuteTime": {
     "end_time": "2022-09-29T17:15:09.709393Z",
     "start_time": "2022-09-29T17:15:09.689579Z"
    }
   },
   "outputs": [
    {
     "data": {
      "text/html": [
       "<div>\n",
       "<style scoped>\n",
       "    .dataframe tbody tr th:only-of-type {\n",
       "        vertical-align: middle;\n",
       "    }\n",
       "\n",
       "    .dataframe tbody tr th {\n",
       "        vertical-align: top;\n",
       "    }\n",
       "\n",
       "    .dataframe thead tr th {\n",
       "        text-align: left;\n",
       "    }\n",
       "\n",
       "    .dataframe thead tr:last-of-type th {\n",
       "        text-align: right;\n",
       "    }\n",
       "</style>\n",
       "<table border=\"1\" class=\"dataframe\">\n",
       "  <thead>\n",
       "    <tr>\n",
       "      <th></th>\n",
       "      <th>country</th>\n",
       "      <th colspan=\"4\" halign=\"left\">spent</th>\n",
       "      <th colspan=\"4\" halign=\"left\">purchases</th>\n",
       "    </tr>\n",
       "    <tr>\n",
       "      <th></th>\n",
       "      <th>count</th>\n",
       "      <th>min</th>\n",
       "      <th>max</th>\n",
       "      <th>mean</th>\n",
       "      <th>std</th>\n",
       "      <th>min</th>\n",
       "      <th>max</th>\n",
       "      <th>mean</th>\n",
       "      <th>std</th>\n",
       "    </tr>\n",
       "    <tr>\n",
       "      <th>group</th>\n",
       "      <th></th>\n",
       "      <th></th>\n",
       "      <th></th>\n",
       "      <th></th>\n",
       "      <th></th>\n",
       "      <th></th>\n",
       "      <th></th>\n",
       "      <th></th>\n",
       "      <th></th>\n",
       "    </tr>\n",
       "  </thead>\n",
       "  <tbody>\n",
       "    <tr>\n",
       "      <th>GRP A</th>\n",
       "      <td>4518</td>\n",
       "      <td>99</td>\n",
       "      <td>10480</td>\n",
       "      <td>1899.792165</td>\n",
       "      <td>1413.074052</td>\n",
       "      <td>1</td>\n",
       "      <td>24</td>\n",
       "      <td>4.568172</td>\n",
       "      <td>3.170057</td>\n",
       "    </tr>\n",
       "    <tr>\n",
       "      <th>GRP B</th>\n",
       "      <td>4491</td>\n",
       "      <td>99</td>\n",
       "      <td>10478</td>\n",
       "      <td>1905.946782</td>\n",
       "      <td>1384.617019</td>\n",
       "      <td>1</td>\n",
       "      <td>23</td>\n",
       "      <td>4.585393</td>\n",
       "      <td>3.132202</td>\n",
       "    </tr>\n",
       "  </tbody>\n",
       "</table>\n",
       "</div>"
      ],
      "text/plain": [
       "      country spent                                  purchases                \\\n",
       "        count   min    max         mean          std       min max      mean   \n",
       "group                                                                          \n",
       "GRP A    4518    99  10480  1899.792165  1413.074052         1  24  4.568172   \n",
       "GRP B    4491    99  10478  1905.946782  1384.617019         1  23  4.585393   \n",
       "\n",
       "                 \n",
       "            std  \n",
       "group            \n",
       "GRP A  3.170057  \n",
       "GRP B  3.132202  "
      ]
     },
     "execution_count": 23,
     "metadata": {},
     "output_type": "execute_result"
    }
   ],
   "source": [
    "df2.groupby('group').agg({'country' : 'count',\n",
    "                         'spent' : ['min', 'max' , 'mean' , 'std'],\n",
    "                         'purchases' : ['min', 'max' , 'mean' , 'std']})"
   ]
  },
  {
   "cell_type": "code",
   "execution_count": 26,
   "id": "5c74ce31",
   "metadata": {
    "ExecuteTime": {
     "end_time": "2022-09-29T17:16:21.690181Z",
     "start_time": "2022-09-29T17:16:21.531180Z"
    }
   },
   "outputs": [
    {
     "data": {
      "text/plain": [
       "<AxesSubplot:>"
      ]
     },
     "execution_count": 26,
     "metadata": {},
     "output_type": "execute_result"
    },
    {
     "data": {
      "image/png": "[encoded data removed]",
      "text/plain": [
       "<Figure size 640x480 with 1 Axes>"
      ]
     },
     "metadata": {},
     "output_type": "display_data"
    }
   ],
   "source": [
    "df2.loc[df2['group'] == 'GRP A' , 'purchases'].hist(bins = 20)\n",
    "df2.loc[df2['group'] == 'GRP B' , 'purchases'].hist(bins = 20)"
   ]
  },
  {
   "cell_type": "markdown",
   "id": "edd8c15b",
   "metadata": {},
   "source": [
    "# 3.0 Teste de Hipótese"
   ]
  },
  {
   "cell_type": "markdown",
   "id": "919ff39f",
   "metadata": {},
   "source": [
    "## 3.1 Groups"
   ]
  },
  {
   "cell_type": "code",
   "execution_count": 32,
   "id": "46c01024",
   "metadata": {
    "ExecuteTime": {
     "end_time": "2022-09-29T17:23:10.934274Z",
     "start_time": "2022-09-29T17:23:10.923949Z"
    }
   },
   "outputs": [],
   "source": [
    "sample_A = df2.loc[df2['group'] == 'GRP A' , 'spent'].sample(sz, random_state = 42)\n",
    "sample_B = df2.loc[df2['group'] == 'GRP B' , 'spent'].sample(sz, random_state = 42)"
   ]
  },
  {
   "cell_type": "code",
   "execution_count": 37,
   "id": "5259a591",
   "metadata": {
    "ExecuteTime": {
     "end_time": "2022-09-29T17:25:25.698014Z",
     "start_time": "2022-09-29T17:25:25.692814Z"
    }
   },
   "outputs": [
    {
     "name": "stdout",
     "output_type": "stream",
     "text": [
      "AVG Sample A: 1908.56 +/- 1406.42\n",
      "AVG Sample B: 1902.1 +/- 1383.93\n"
     ]
    }
   ],
   "source": [
    "# Metrics\n",
    "print( 'AVG Sample A: {} +/- {}'. format( np.round(sample_A.mean() , 2), np.round(sample_A.std(), 2) ))\n",
    "print( 'AVG Sample B: {} +/- {}'. format( np.round(sample_B.mean() , 2), np.round(sample_B.std(), 2) ))"
   ]
  },
  {
   "cell_type": "markdown",
   "id": "dcf56598",
   "metadata": {},
   "source": [
    "## 3.2 Inferência Estatística"
   ]
  },
  {
   "cell_type": "code",
   "execution_count": 38,
   "id": "f263b7f4",
   "metadata": {
    "ExecuteTime": {
     "end_time": "2022-09-29T17:27:27.820471Z",
     "start_time": "2022-09-29T17:27:27.815284Z"
    }
   },
   "outputs": [],
   "source": [
    "t_test , p_value = stats.ttest_ind (sample_A ,  sample_B)"
   ]
  },
  {
   "cell_type": "code",
   "execution_count": 39,
   "id": "db53757b",
   "metadata": {
    "ExecuteTime": {
     "end_time": "2022-09-29T17:28:03.502631Z",
     "start_time": "2022-09-29T17:28:03.498327Z"
    }
   },
   "outputs": [
    {
     "name": "stdout",
     "output_type": "stream",
     "text": [
      "p_value: 0.8488440918718094\n"
     ]
    }
   ],
   "source": [
    "print ('p_value: {}'.format(p_value))"
   ]
  },
  {
   "cell_type": "markdown",
   "id": "64042896",
   "metadata": {},
   "source": [
    "# 4.0 Conslusão"
   ]
  },
  {
   "cell_type": "code",
   "execution_count": 40,
   "id": "fcdaab3c",
   "metadata": {
    "ExecuteTime": {
     "end_time": "2022-09-29T17:36:21.609184Z",
     "start_time": "2022-09-29T17:36:21.604408Z"
    }
   },
   "outputs": [
    {
     "name": "stdout",
     "output_type": "stream",
     "text": [
      "Failed to Reject Null Hypothesis ( Assumir a Hipótese Nula)\n",
      "Não temos evidência suficientes para dizer que o preenchimento automático trouxe uma mudança significativa no GMV médio da página\n",
      "Repensar a estratégia do dispositivo de preenchimento automático\n"
     ]
    }
   ],
   "source": [
    "significance_level = 0.05\n",
    "if p_value < significance_level:\n",
    "    print('Reject Null Hypothesis')\n",
    "    print('O preenchimento automático trouxe uma mudança significativa no GMV médio da página')\n",
    "    print('OK - Podemos liberar a página para toda a audiência do site')\n",
    "else:\n",
    "    print('Failed to Reject Null Hypothesis ( Assumir a Hipótese Nula)')\n",
    "    print('Não temos evidência suficientes para dizer que o preenchimento automático trouxe uma mudança significativa no GMV médio da página')\n",
    "    print('Repensar a estratégia do dispositivo de preenchimento automático')    "
   ]
  },
  {
   "cell_type": "code",
   "execution_count": null,
   "id": "15a928ce",
   "metadata": {},
   "outputs": [],
   "source": []
  },
  {
   "cell_type": "code",
   "execution_count": null,
   "id": "2e995f0f",
   "metadata": {},
   "outputs": [],
   "source": []
  },
  {
   "cell_type": "code",
   "execution_count": null,
   "id": "6cff1d21",
   "metadata": {},
   "outputs": [],
   "source": []
  }
 ],
 "metadata": {
  "kernelspec": {
   "display_name": "Python 3 (ipykernel)",
   "language": "python",
   "name": "python3"
  },
  "language_info": {
   "codemirror_mode": {
    "name": "ipython",
    "version": 3
   },
   "file_extension": ".py",
   "mimetype": "text/x-python",
   "name": "python",
   "nbconvert_exporter": "python",
   "pygments_lexer": "ipython3",
   "version": "3.10.4"
  },
  "toc": {
   "base_numbering": 1,
   "nav_menu": {},
   "number_sections": false,
   "sideBar": true,
   "skip_h1_title": false,
   "title_cell": "Table of Contents",
   "title_sidebar": "Contents",
   "toc_cell": false,
   "toc_position": {},
   "toc_section_display": true,
   "toc_window_display": false
  },
  "varInspector": {
   "cols": {
    "lenName": 16,
    "lenType": 16,
    "lenVar": 40
   },
   "kernels_config": {
    "python": {
     "delete_cmd_postfix": "",
     "delete_cmd_prefix": "del ",
     "library": "var_list.py",
     "varRefreshCmd": "print(var_dic_list())"
    },
    "r": {
     "delete_cmd_postfix": ") ",
     "delete_cmd_prefix": "rm(",
     "library": "var_list.r",
     "varRefreshCmd": "cat(var_dic_list()) "
    }
   },
   "types_to_exclude": [
    "module",
    "function",
    "builtin_function_or_method",
    "instance",
    "_Feature"
   ],
   "window_display": false
  }
 },
 "nbformat": 4,
 "nbformat_minor": 5
}
