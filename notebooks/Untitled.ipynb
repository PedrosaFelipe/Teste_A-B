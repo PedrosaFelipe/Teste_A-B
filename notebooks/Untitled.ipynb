{
 "cells": [
  {
   "cell_type": "markdown",
   "id": "14dfcaae",
   "metadata": {},
   "source": [
    "# A/B Testing - PA Bond"
   ]
  },
  {
   "cell_type": "markdown",
   "id": "f68e4f46",
   "metadata": {},
   "source": [
    "# 0.0 Planejamento"
   ]
  },
  {
   "cell_type": "markdown",
   "id": "8dda11cd",
   "metadata": {},
   "source": [
    "# 1.1 Design do Experimento"
   ]
  },
  {
   "cell_type": "markdown",
   "id": "16b17131",
   "metadata": {},
   "source": [
    "- **Objetivo**"
   ]
  },
  {
   "cell_type": "markdown",
   "id": "ad092e36",
   "metadata": {},
   "source": [
    "## 1.1 Hipótese do Experimento"
   ]
  },
  {
   "cell_type": "markdown",
   "id": "8e7fbb6a",
   "metadata": {},
   "source": [
    "# 2.0 Preparação dos dados"
   ]
  },
  {
   "cell_type": "markdown",
   "id": "91ea27b4",
   "metadata": {},
   "source": [
    "## 2.1 Loading data"
   ]
  },
  {
   "cell_type": "markdown",
   "id": "73076fe7",
   "metadata": {},
   "source": [
    "## 2.2 Descriptive Statistics"
   ]
  },
  {
   "cell_type": "markdown",
   "id": "3ba4a57a",
   "metadata": {},
   "source": [
    "# 3.0 Teste de Hipótese"
   ]
  },
  {
   "cell_type": "markdown",
   "id": "a3806812",
   "metadata": {},
   "source": [
    "# 4.0 Conslusão"
   ]
  }
 ],
 "metadata": {
  "kernelspec": {
   "display_name": "Python 3 (ipykernel)",
   "language": "python",
   "name": "python3"
  },
  "language_info": {
   "codemirror_mode": {
    "name": "ipython",
    "version": 3
   },
   "file_extension": ".py",
   "mimetype": "text/x-python",
   "name": "python",
   "nbconvert_exporter": "python",
   "pygments_lexer": "ipython3",
   "version": "3.10.4"
  },
  "toc": {
   "base_numbering": 1,
   "nav_menu": {},
   "number_sections": false,
   "sideBar": true,
   "skip_h1_title": false,
   "title_cell": "Table of Contents",
   "title_sidebar": "Contents",
   "toc_cell": false,
   "toc_position": {},
   "toc_section_display": true,
   "toc_window_display": false
  },
  "varInspector": {
   "cols": {
    "lenName": 16,
    "lenType": 16,
    "lenVar": 40
   },
   "kernels_config": {
    "python": {
     "delete_cmd_postfix": "",
     "delete_cmd_prefix": "del ",
     "library": "var_list.py",
     "varRefreshCmd": "print(var_dic_list())"
    },
    "r": {
     "delete_cmd_postfix": ") ",
     "delete_cmd_prefix": "rm(",
     "library": "var_list.r",
     "varRefreshCmd": "cat(var_dic_list()) "
    }
   },
   "types_to_exclude": [
    "module",
    "function",
    "builtin_function_or_method",
    "instance",
    "_Feature"
   ],
   "window_display": false
  }
 },
 "nbformat": 4,
 "nbformat_minor": 5
}
